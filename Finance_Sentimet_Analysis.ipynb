{
 "cells": [
  {
   "cell_type": "code",
   "execution_count": 97,
   "metadata": {},
   "outputs": [],
   "source": [
    "from urllib.request import urlopen, Request \n"
   ]
  },
  {
   "cell_type": "code",
   "execution_count": 98,
   "metadata": {},
   "outputs": [],
   "source": [
    "from bs4 import BeautifulSoup"
   ]
  },
  {
   "cell_type": "code",
   "execution_count": 99,
   "metadata": {},
   "outputs": [],
   "source": [
    "from nltk.sentiment.vader import SentimentIntensityAnalyzer"
   ]
  },
  {
   "cell_type": "code",
   "execution_count": 100,
   "metadata": {},
   "outputs": [],
   "source": [
    "import pandas as pd"
   ]
  },
  {
   "cell_type": "code",
   "execution_count": 101,
   "metadata": {},
   "outputs": [],
   "source": [
    "import matplotlib.pyplot as plt"
   ]
  },
  {
   "cell_type": "code",
   "execution_count": 102,
   "metadata": {},
   "outputs": [],
   "source": [
    "finviz_url='https://finviz.com/quote.ashx?t='"
   ]
  },
  {
   "cell_type": "code",
   "execution_count": 103,
   "metadata": {},
   "outputs": [],
   "source": [
    "tickers=['AMZN','GOOG','FB']\n"
   ]
  },
  {
   "cell_type": "code",
   "execution_count": 104,
   "metadata": {},
   "outputs": [],
   "source": [
    "news_tables={}"
   ]
  },
  {
   "cell_type": "code",
   "execution_count": 105,
   "metadata": {},
   "outputs": [],
   "source": [
    "for ticker in tickers:\n",
    "    url=finviz_url+ticker\n",
    "    req=Request(url=url, headers={'user-agent':'my-app'})\n",
    "    response=urlopen(req)\n",
    "    html=BeautifulSoup(response,'html')\n",
    "    news_table=html.find(id='news-table')\n",
    "    news_tables[ticker]=news_table\n",
    "    \n"
   ]
  },
  {
   "cell_type": "code",
   "execution_count": 106,
   "metadata": {},
   "outputs": [
    {
     "name": "stdout",
     "output_type": "stream",
     "text": [
      "[['AMZN', 'Mar-12-21', '08:41PM\\xa0\\xa0', 'The \"Amazon\" of Japan, Rakuten, Selling $2.2 Billion in New Stock'], ['AMZN', 'Mar-12-21', '06:25PM\\xa0\\xa0', 'Amazon Ordered to Close Canadian Facility on Covid-19 Cases'], ['AMZN', 'Mar-12-21', '06:22PM\\xa0\\xa0', 'UPDATE 1-Amazon Canada asked to shut Brampton facility on COVID-19 concerns'], ['AMZN', 'Mar-12-21', '06:02PM\\xa0\\xa0', 'Coupang Is the Amazon.com of South Korea, but Maybe Even Better. And Now You Can Buy the Stock.'], ['AMZN', 'Mar-12-21', '03:21PM\\xa0\\xa0', 'Rakuten Divests 8% Stake To Japan Post, Tencent, Walmart To Intensify Battle Against Amazon: Report'], ['AMZN', 'Mar-12-21', '02:23PM\\xa0\\xa0', 'Three stocks to benefit from the latest round of stimulus checks'], ['AMZN', 'Mar-12-21', '01:56PM\\xa0\\xa0', 'UPDATE 2-Rubio first U.S. Republican senator to support union push at Amazon.com'], ['AMZN', 'Mar-12-21', '01:34PM\\xa0\\xa0', 'Bernie Sanders Invites Jeff Bezos to Hearing on Income Inequality'], ['AMZN', 'Mar-12-21', '01:04PM\\xa0\\xa0', 'Amazon Attracts Indian Watchdog Attention: Reuters'], ['AMZN', 'Mar-12-21', '12:15PM\\xa0\\xa0', 'Amazons echo show smart speaker is perfect for outdoor socialising  and its nearly 50% off'], ['AMZN', 'Mar-12-21', '12:00PM\\xa0\\xa0', \"Amazon's Pouncing on an Opportunity in Grocery\"], ['AMZN', 'Mar-12-21', '10:33AM\\xa0\\xa0', 'IBMs Patent Income Slips\\xa0as Companies\\xa0Resist Godfather Deals'], ['AMZN', 'Mar-12-21', '10:09AM\\xa0\\xa0', 'The Zacks Analyst Blog Highlights: Apple, Google, Amazon and Gramin'], ['AMZN', 'Mar-12-21', '09:28AM\\xa0\\xa0', 'Amazon Union Drive in Alabama Is Backed by Sen. Marco Rubio'], ['AMZN', 'Mar-12-21', '09:27AM\\xa0\\xa0', \"Costco may be 'poised' to increase membership fees\"], ['AMZN', 'Mar-12-21', '09:18AM\\xa0\\xa0', 'Amazon.com Is Spending Too Much Time Below the 200-Day Average'], ['AMZN', 'Mar-12-21', '09:09AM\\xa0\\xa0', \"Tattooed Chef Brings Impressive Q4 Earnings -- What's next?\"], ['AMZN', 'Mar-12-21', '09:00AM\\xa0\\xa0', \"Column: What we've learned  and what we still don't know  after our pandemic year\"], ['AMZN', 'Mar-12-21', '08:45AM\\xa0\\xa0', 'Amazon Turns Up the Heat in This Rapidly Growing E-Commerce Market'], ['AMZN', 'Mar-12-21', '08:05AM\\xa0\\xa0', 'Better Buy: Costco vs. GameStop'], ['AMZN', 'Mar-12-21', '07:30AM\\xa0\\xa0', '5 Top \"Winners Keep Winning\" Stocks'], ['AMZN', 'Mar-12-21', '07:15AM\\xa0\\xa0', '2 Top Growth Stocks to Buy Right Now'], ['AMZN', 'Mar-12-21', '07:08AM\\xa0\\xa0', 'Indian agency seeks information, documents from Amazon amid probe: source'], ['AMZN', 'Mar-12-21', '07:08AM\\xa0\\xa0', 'Enforcement Directorate seeks information, documents from Amazon amid probe: source'], ['AMZN', 'Mar-12-21', '07:07AM\\xa0\\xa0', 'Forget the Reddit Hype, Here Are 3 Very Good Reasons Why GameStop Can Win'], ['AMZN', 'Mar-12-21', '07:00AM\\xa0\\xa0', '5 Vanguard Funds That Can Help You Retire a Millionaire'], ['AMZN', 'Mar-12-21', '06:40AM\\xa0\\xa0', '3 No-Brainer Stocks That Can Make You Richer in 2021'], ['AMZN', 'Mar-12-21', '06:06AM\\xa0\\xa0', '4 Dow Stocks With 24% to 31% Upside, According to Wall Street'], ['AMZN', 'Mar-12-21', '05:51AM\\xa0\\xa0', '5 Stocks the Smartest Money Managers Are Buying'], ['AMZN', 'Mar-12-21', '03:49AM\\xa0\\xa0', 'Rakuten to Raise $2.2 Billion as Japan Post, Tencent Invest'], ['AMZN', 'Mar-12-21', '01:43AM\\xa0\\xa0', \"India child rights body asks Netflix to stop streaming 'Bombay Begums'\"], ['AMZN', 'Mar-11-21', '09:02PM\\xa0\\xa0', 'Why Coupang Stock Soared Today'], ['AMZN', 'Mar-11-21', '06:26PM\\xa0\\xa0', 'SoftBank-Backed Coupang Gets Debut Gain in Top 2021 U.S. IPO'], ['AMZN', 'Mar-11-21', '05:45PM\\xa0\\xa0', 'Amazon (AMZN) Outpaces Stock Market Gains: What You Should Know'], ['AMZN', 'Mar-11-21', '04:22PM\\xa0\\xa0', \"Vaccine chaos leads to 'leftover dose' and 'real-time alert' sites\"], ['AMZN', 'Mar-11-21', '02:00PM\\xa0\\xa0', 'Korean E-Commerce Giant Coupang Skyrockets on IPO'], ['AMZN', 'Mar-11-21', '12:51PM\\xa0\\xa0', 'Heres Why This Hedge Fund Thinks Amazon (AMZN) Can Still Reach Higher Highs'], ['AMZN', 'Mar-11-21', '12:47PM\\xa0\\xa0', \"Coupang debut: How South Korea's e-commerce giant traded on IPO day\"], ['AMZN', 'Mar-11-21', '11:45AM\\xa0\\xa0', 'Amazon Announces First Fulfillment Center in Amarillo, TX'], ['AMZN', 'Mar-11-21', '11:04AM\\xa0\\xa0', 'Oracle Tumbles as Shift to Cloud Software Fails to Spur Substantial Growth'], ['AMZN', 'Mar-11-21', '10:50AM\\xa0\\xa0', 'Better Buy: Amazon vs. Disney'], ['AMZN', 'Mar-11-21', '10:39AM\\xa0\\xa0', 'Oracle Falls Most in a Year After Tepid Outlook for Growth'], ['AMZN', 'Mar-11-21', '09:45AM\\xa0\\xa0', 'Primoris Services, Regis Corp, Apple, Alphabet and Amazon highlighted as Zacks Bull and Bear of the Day'], ['AMZN', 'Mar-11-21', '09:22AM\\xa0\\xa0', 'Better Buy: Amazon vs. PepsiCo'], ['AMZN', 'Mar-11-21', '08:08AM\\xa0\\xa0', \"Activist Investors May Find Kohl's Is No Bed Bath & Beyond\"], ['AMZN', 'Mar-11-21', '07:45AM\\xa0\\xa0', '3 Reasons Why Etsy Stock Could Make You Rich'], ['AMZN', 'Mar-11-21', '07:44AM\\xa0\\xa0', 'Better Buy: Netflix vs. Amazon'], ['AMZN', 'Mar-11-21', '07:28AM\\xa0\\xa0', 'Amazon workers in Italy call first company-wide strike for March 22'], ['AMZN', 'Mar-11-21', '07:20AM\\xa0\\xa0', '4 Stocks to Watch Amid Booming Demand for Wearables'], ['AMZN', 'Mar-11-21', '07:05AM\\xa0\\xa0', 'Amazon Stock: Time to Buy?'], ['AMZN', 'Mar-11-21', '07:00AM\\xa0\\xa0', 'Influencers with Andy Serwer: Walter Isaacson'], ['AMZN', 'Mar-11-21', '06:08AM\\xa0\\xa0', '3 Robinhood Stocks Smart Investors Will Buy and Hold for Years'], ['AMZN', 'Mar-11-21', '06:00AM\\xa0\\xa0', 'In Alabama, Amazon workers wage a historic battle to unionize'], ['AMZN', 'Mar-11-21', '01:58AM\\xa0\\xa0', 'Coupang Raises $4.6 Billion in Biggest U.S. IPO This Year'], ['AMZN', 'Mar-11-21', '01:04AM\\xa0\\xa0', 'SoftBank-Backed Coupang Prices U.S. IPO Above Target'], ['AMZN', 'Mar-10-21', '08:11PM\\xa0\\xa0', 'Verizon Sees 4% Annual Sales Growth Thanks to 5G. Thats a Lot for  the Wireless Giant.'], ['AMZN', 'Mar-10-21', '07:00PM\\xa0\\xa0', 'EU struggles to build antitrust case against Amazon'], ['AMZN', 'Mar-10-21', '07:00PM\\xa0\\xa0', 'A cheat sheet on the EUs new clampdowns on Big Tech'], ['AMZN', 'Mar-10-21', '06:11PM\\xa0\\xa0', 'Mini Options: A Useful Tool for Trading High-Priced Securities'], ['AMZN', 'Mar-10-21', '06:06PM\\xa0\\xa0', 'Oracle Expands Buyback Plan, Lifts Dividend 33% as Earnings Come in Strong'], ['AMZN', 'Mar-10-21', '04:11PM\\xa0\\xa0', \"Parler Blocked on Apple's App Store After Capitol Riot Review\"], ['AMZN', 'Mar-10-21', '04:05PM\\xa0\\xa0', 'Forget AMC: 1 Recovery Stock to Buy Today'], ['AMZN', 'Mar-10-21', '12:58PM\\xa0\\xa0', 'Sonos CEO on tech competition: Were the story of software eating audio'], ['AMZN', 'Mar-10-21', '12:47PM\\xa0\\xa0', \"Tech stocks are 'incredible buys' whenever you see weakness: CIO\"], ['AMZN', 'Mar-10-21', '12:45PM\\xa0\\xa0', \"Is Instacart Headed To Be America's Top Grocer?\"], ['AMZN', 'Mar-10-21', '12:23PM\\xa0\\xa0', 'Amazon Investment Strengthens Partnership With Cargo Airline ATSG'], ['AMZN', 'Mar-10-21', '12:19PM\\xa0\\xa0', 'Why Shares of AgEagle Aerial Systems Rose as Much as 21% Early Today'], ['AMZN', 'Mar-10-21', '11:50AM\\xa0\\xa0', 'Amazon (AMZN) Launches One Zone Storage, Expands AWS Portfolio'], ['AMZN', 'Mar-10-21', '10:40AM\\xa0\\xa0', 'A Comprehensive Guide to Cloud Computing ETFs'], ['AMZN', 'Mar-10-21', '09:54AM\\xa0\\xa0', 'Tiger Cub Billionaire Lee Ainslies Top 10 Stock Picks'], ['AMZN', 'Mar-10-21', '09:30AM\\xa0\\xa0', 'Better Buy: Lululemon vs. Nordstrom'], ['AMZN', 'Mar-10-21', '09:12AM\\xa0\\xa0', 'Charlie Munger Has a Warning for Investors'], ['AMZN', 'Mar-10-21', '09:10AM\\xa0\\xa0', 'Amazon Music Launches New Shopping Experience, Making It Easier for Fans to Find Merch from Their Favorite Artists'], ['AMZN', 'Mar-10-21', '08:38AM\\xa0\\xa0', 'Social media algorithms are dangerous: Walter Isaacson'], ['AMZN', 'Mar-10-21', '07:43AM\\xa0\\xa0', '5 Stocks To Buy in the March Market Crash'], ['AMZN', 'Mar-10-21', '07:41AM\\xa0\\xa0', '3 New Customers That Will Power Amazon Beyond the Pandemic'], ['AMZN', 'Mar-10-21', '07:00AM\\xa0\\xa0', '3 Top Stocks to Buy During This Market Crash'], ['AMZN', 'Mar-10-21', '06:20AM\\xa0\\xa0', 'Amazon is working on a strange robot for your home  but reports claim employees are worried'], ['AMZN', 'Mar-10-21', '06:15AM\\xa0\\xa0', \"3 Top Stocks to Buy After Last Week's Sell-Off\"], ['AMZN', 'Mar-10-21', '01:28AM\\xa0\\xa0', 'Elon Musk Adds $25B To Wealth In A Single Day With Tesla Stock Reversal'], ['AMZN', 'Mar-09-21', '08:02PM\\xa0\\xa0', 'Sonos Targets Nearly Double Revenue by 2024, Unveils New Speaker'], ['AMZN', 'Mar-09-21', '06:40PM\\xa0\\xa0', 'SoftBank Poised to Reap $16 Billion Profit as Coupang Boosts IPO'], ['AMZN', 'Mar-09-21', '04:49PM\\xa0\\xa0', 'Here Are 6 Enormously Successful Growth Stocks Trading for 25% Off Highs -- or More'], ['AMZN', 'Mar-09-21', '04:34PM\\xa0\\xa0', 'AWS Announces New Lower Cost Storage Classes for Amazon Elastic File System'], ['AMZN', 'Mar-09-21', '04:30PM\\xa0\\xa0', 'Disney Blows Past Another Streaming Milestone As California Parks Prepare To Reopen'], ['AMZN', 'Mar-09-21', '04:22PM\\xa0\\xa0', 'Are You Ready to Invest in the Jeff Bezos of South Korea?'], ['AMZN', 'Mar-09-21', '04:10PM\\xa0\\xa0', \"EV Stocks Rebound As Tesla Rival Rivian Eyes This 'Huge Step'\"], ['AMZN', 'Mar-09-21', '03:40PM\\xa0\\xa0', 'Biden Reportedly Plans to Name Tech Critic Lina Khan to FTC'], ['AMZN', 'Mar-09-21', '03:13PM\\xa0\\xa0', 'What Investors Need to Know About Olo'], ['AMZN', 'Mar-09-21', '02:58PM\\xa0\\xa0', '4 Secular Growth Stock Ideas: Chewy, Amazon, Alphabet, Equinix'], ['AMZN', 'Mar-09-21', '02:38PM\\xa0\\xa0', 'Biden Flashes Warning to Big Tech as Antitrust Team Takes Shape'], ['AMZN', 'Mar-09-21', '02:23PM\\xa0\\xa0', 'Buy Visa and Mastercard Because the Card Networks Are Poised for a Comeback, Analysts Say'], ['AMZN', 'Mar-09-21', '01:33PM\\xa0\\xa0', 'Jeff Bezos names Andrew Steer as head of Bezos Earth Fund'], ['AMZN', 'Mar-09-21', '01:00PM\\xa0\\xa0', 'Is Wayfair Stock A Buy After First Full Year Of Profitability?'], ['AMZN', 'Mar-09-21', '12:14PM\\xa0\\xa0', 'Dow Rallies After Pelosi Makes Stimulus Pledge; Nasdaq Surges As Yields Slide; Apple Stock Jumps'], ['AMZN', 'Mar-09-21', '12:02PM\\xa0\\xa0', 'Best VPN deals: Pay less for privacy with discounts on ExpressVPN, NordVPN and more'], ['AMZN', 'Mar-09-21', '11:50AM\\xa0\\xa0', 'Oracle Reports Earnings Tomorrow. Heres What to Expect.'], ['AMZN', 'Mar-09-21', '10:50AM\\xa0\\xa0', 'Why (Almost) Every Portfolio Should Have Tech Stocks'], ['AMZN', 'Mar-09-21', '10:26AM\\xa0\\xa0', 'Biden Moving to Name Antitrust Scholar Lina Khan to FTC Post'], ['AMZN', 'Mar-09-21', '10:09AM\\xa0\\xa0', 'How these teens are having fun in todays stock market, and, for the most part, making money'], ['GOOG', 'Mar-12-21', '05:45PM\\xa0\\xa0', 'How to Play the Valuation Gap Between Growth and Value Stocks'], ['GOOG', 'Mar-12-21', '02:14PM\\xa0\\xa0', 'Google Under EU Watchdog Probe For Advertising: Bloomberg'], ['GOOG', 'Mar-12-21', '12:26PM\\xa0\\xa0', 'Microsoft and Google openly feuding amid hacks, competition inquiries'], ['GOOG', 'Mar-12-21', '12:24PM\\xa0\\xa0', 'Microsoft and Google openly feuding amid hacks, competition inquiries'], ['GOOG', 'Mar-12-21', '12:22PM\\xa0\\xa0', 'Microsoft and Google openly feuding amid hacks, competition inquiries'], ['GOOG', 'Mar-12-21', '12:18PM\\xa0\\xa0', 'Google Slams Microsoft Over Support for Media Antitrust Bill'], ['GOOG', 'Mar-12-21', '10:33AM\\xa0\\xa0', 'IBMs Patent Income Slips\\xa0as Companies\\xa0Resist Godfather Deals'], ['GOOG', 'Mar-12-21', '10:09AM\\xa0\\xa0', 'The Zacks Analyst Blog Highlights: Apple, Google, Amazon and Gramin'], ['GOOG', 'Mar-12-21', '09:20AM\\xa0\\xa0', 'Dow Jones Futures: Rising Treasury Yields Hit Tech Stocks After Microsoft, Google Flash Buy Signals; Vaccine Maker Spikes'], ['GOOG', 'Mar-12-21', '06:05AM\\xa0\\xa0', 'Facebook, Google fight bill that would help U.S. news industry'], ['GOOG', 'Mar-12-21', '06:00AM\\xa0\\xa0', 'Facebook, Google fight bill that would help U.S. news industry'], ['GOOG', 'Mar-12-21', '05:51AM\\xa0\\xa0', '5 Stocks the Smartest Money Managers Are Buying'], ['GOOG', 'Mar-12-21', '05:22AM\\xa0\\xa0', 'Facebook Has Dedicated About 20% Of Its Workforce To VR/AR Efforts: Report'], ['GOOG', 'Mar-11-21', '10:23PM\\xa0\\xa0', 'Dow Jones Futures: Market Rally Gains Steam As Microsoft, Google Flash Buy Signals; Vaccine Maker Spikes Late'], ['GOOG', 'Mar-11-21', '12:55PM\\xa0\\xa0', 'Billionaire Steve Cohens Top 10 Stock Picks'], ['GOOG', 'Mar-11-21', '11:04AM\\xa0\\xa0', 'Oracle Tumbles as Shift to Cloud Software Fails to Spur Substantial Growth'], ['GOOG', 'Mar-11-21', '11:02AM\\xa0\\xa0', 'Alphabet Scores Bullish Gain'], ['GOOG', 'Mar-11-21', '10:01AM\\xa0\\xa0', 'Augmented Reality Finding Niche In Workplace'], ['GOOG', 'Mar-11-21', '09:45AM\\xa0\\xa0', 'Primoris Services, Regis Corp, Apple, Alphabet and Amazon highlighted as Zacks Bull and Bear of the Day'], ['GOOG', 'Mar-11-21', '08:00AM\\xa0\\xa0', 'Host of Virus-Spreading Tech Conference Peddles Unproven Treatment\\xa0to Attendees'], ['GOOG', 'Mar-11-21', '07:20AM\\xa0\\xa0', '4 Stocks to Watch Amid Booming Demand for Wearables'], ['GOOG', 'Mar-11-21', '12:00AM\\xa0\\xa0', \"Tech Giants' Dreams of Free Internet Wither in African Backlash\"], ['GOOG', 'Mar-10-21', '09:19PM\\xa0\\xa0', 'Uber Fails to Pay Some Electric Car Bonuses, Citing Glitch'], ['GOOG', 'Mar-10-21', '06:11PM\\xa0\\xa0', 'Mini Options: A Useful Tool for Trading High-Priced Securities'], ['GOOG', 'Mar-10-21', '04:11PM\\xa0\\xa0', \"Parler Blocked on Apple's App Store After Capitol Riot Review\"], ['GOOG', 'Mar-10-21', '03:19PM\\xa0\\xa0', 'Facebook Asks Court to Toss U.S. Lawsuit Seeking Breakup'], ['GOOG', 'Mar-10-21', '02:53PM\\xa0\\xa0', 'Tech War With News Publishers Reaches US: Bloomberg'], ['GOOG', 'Mar-10-21', '01:26PM\\xa0\\xa0', 'Russia Squeezes Twitter Amid Crackdown, Traffic Disrupted'], ['GOOG', 'Mar-10-21', '12:58PM\\xa0\\xa0', 'Sonos CEO on tech competition: Were the story of software eating audio'], ['GOOG', 'Mar-10-21', '12:47PM\\xa0\\xa0', \"Tech stocks are 'incredible buys' whenever you see weakness: CIO\"], ['GOOG', 'Mar-10-21', '11:59AM\\xa0\\xa0', 'Russia slows down Twitter speed, threatens total block'], ['GOOG', 'Mar-10-21', '11:30AM\\xa0\\xa0', \"How Google's Decision To Scrap Third-Party Cookies Will Affect The Search Giant\"], ['GOOG', 'Mar-10-21', '11:03AM\\xa0\\xa0', \"Girls Who Code CEO on women in tech: We're not getting hired, or supported\"], ['GOOG', 'Mar-10-21', '10:40AM\\xa0\\xa0', 'A Comprehensive Guide to Cloud Computing ETFs'], ['GOOG', 'Mar-10-21', '10:12AM\\xa0\\xa0', \"Russia Slows Twitter's Speed Following Protests, Threatens Complete Suspension: Reuters\"], ['GOOG', 'Mar-10-21', '10:00AM\\xa0\\xa0', \"Datto Acquires Israel's Cyber Threat Detection Company BitDam For Undisclosed Sum\"], ['GOOG', 'Mar-10-21', '09:57AM\\xa0\\xa0', \"Facebook and Twitter algorithms incentivize 'people to get enraged': Walter Isaacson\"], ['GOOG', 'Mar-10-21', '09:54AM\\xa0\\xa0', 'Tiger Cub Billionaire Lee Ainslies Top 10 Stock Picks'], ['GOOG', 'Mar-10-21', '09:42AM\\xa0\\xa0', 'Roblox to go public today in $30B direct listing'], ['GOOG', 'Mar-10-21', '08:42AM\\xa0\\xa0', \"Google Is Eliminating Cookies, But Investors in The Trade Desk and Magnite Shouldn't Worry\"], ['GOOG', 'Mar-10-21', '08:19AM\\xa0\\xa0', 'UPDATE 1-Google and Viber review adverts for Myanmar military-backed telecoms firm'], ['GOOG', 'Mar-10-21', '06:27AM\\xa0\\xa0', 'Epic Games Takes Anticompetitive Battle Against Google To Australia: Bloomberg'], ['GOOG', 'Mar-10-21', '05:00AM\\xa0\\xa0', 'U.S. lawmakers to introduce antitrust bills to protect news media'], ['GOOG', 'Mar-10-21', '04:22AM\\xa0\\xa0', 'Google to review adverts for Myanmar military-backed telecoms firm'], ['GOOG', 'Mar-10-21', '03:20AM\\xa0\\xa0', 'Taiwan Probe Spurs Fears of China Poaching Top Chip Talent'], ['GOOG', 'Mar-10-21', '01:53AM\\xa0\\xa0', 'Tesla, FAANG-Led Nasdaq Rebound Unlikely To Last For Long, Wharton Professor Warns'], ['GOOG', 'Mar-10-21', '01:42AM\\xa0\\xa0', \"CPI, Bond Sales, Roblox IPO and Oracle - What's up in Markets\"], ['GOOG', 'Mar-09-21', '11:54PM\\xa0\\xa0', 'Epic Games Widens Fight Against Google With Australia Lawsuit'], ['GOOG', 'Mar-09-21', '08:02PM\\xa0\\xa0', 'Sonos Targets Nearly Double Revenue by 2024, Unveils New Speaker'], ['GOOG', 'Mar-09-21', '05:51PM\\xa0\\xa0', 'U.S. hearing on tech dominance of news outlets will include Microsoft'], ['GOOG', 'Mar-09-21', '05:44PM\\xa0\\xa0', 'U.S. hearing on tech dominance of news outlets will include Microsoft'], ['GOOG', 'Mar-09-21', '04:32PM\\xa0\\xa0', 'Market Recap: Tuesday, March 9'], ['GOOG', 'Mar-09-21', '02:59PM\\xa0\\xa0', 'Nasdaq Spikes 500 Points, Led By Tesla, Peloton, DocuSign; 3 Bitcoin Stocks Score Bullish Gains'], ['GOOG', 'Mar-09-21', '02:58PM\\xa0\\xa0', '4 Secular Growth Stock Ideas: Chewy, Amazon, Alphabet, Equinix'], ['GOOG', 'Mar-09-21', '02:38PM\\xa0\\xa0', 'Biden Flashes Warning to Big Tech as Antitrust Team Takes Shape'], ['GOOG', 'Mar-09-21', '02:11PM\\xa0\\xa0', 'Zwift Adds Twitters Pichette, Lululemons Burgoyne to Board'], ['GOOG', 'Mar-09-21', '02:09PM\\xa0\\xa0', \"Twitter Sues To Halt Texas AG's Probe Of Trump Ban\"], ['GOOG', 'Mar-09-21', '12:14PM\\xa0\\xa0', 'Dow Rallies After Pelosi Makes Stimulus Pledge; Nasdaq Surges As Yields Slide; Apple Stock Jumps'], ['GOOG', 'Mar-09-21', '11:42AM\\xa0\\xa0', 'Apple, Google Lead Tech Stock Buybacks As Financials Rebound In 2021'], ['GOOG', 'Mar-09-21', '11:06AM\\xa0\\xa0', 'Nasdaq Roars Back as Falling Rates Put Tech in Shop Window'], ['GOOG', 'Mar-09-21', '10:26AM\\xa0\\xa0', 'Biden Moving to Name Antitrust Scholar Lina Khan to FTC Post'], ['GOOG', 'Mar-09-21', '10:16AM\\xa0\\xa0', 'Best mobile phone deals in the UK for March 2021: Sales on iPhone, Samsung, Google Pixel and more'], ['GOOG', 'Mar-09-21', '09:29AM\\xa0\\xa0', 'Rotation trades will be the hardest for investors to figure out: strategist'], ['GOOG', 'Mar-09-21', '08:36AM\\xa0\\xa0', 'Russia Indicts Google, Facebook, Twitter, TikTok, Telegram For Alleged Non-Deletion Of Protest Content'], ['GOOG', 'Mar-09-21', '06:46AM\\xa0\\xa0', 'Why Goldman Sachs is now super bullish on Microsoft and Salesforce'], ['GOOG', 'Mar-09-21', '06:08AM\\xa0\\xa0', 'Adding $1,000 to These 3 Stocks Would Be a Brilliant Move Right Now'], ['GOOG', 'Mar-09-21', '05:51AM\\xa0\\xa0', 'Got $3,000? 4 Unstoppable Stocks to Buy Right Now'], ['GOOG', 'Mar-09-21', '05:07AM\\xa0\\xa0', 'Russia sues Google, Facebook, Twitter for not deleting protest content  Ifax'], ['GOOG', 'Mar-09-21', '04:25AM\\xa0\\xa0', 'EU Set to Go It Alone on Tech Tax If Theres No Deal With Biden'], ['GOOG', 'Mar-08-21', '09:37PM\\xa0\\xa0', 'Apple Releases Patches For iPhone, iPad, Mac, And Watch To Fix WebKit Memory Corruption Bug'], ['GOOG', 'Mar-08-21', '03:15PM\\xa0\\xa0', 'What Are The 5 Main Drivers For The Trade Desk Upgrade?'], ['GOOG', 'Mar-08-21', '01:33PM\\xa0\\xa0', 'Why Is the Nasdaq Still Falling on Monday?'], ['GOOG', 'Mar-08-21', '11:52AM\\xa0\\xa0', 'Amazon is the biggest corporate buyer of renewable energy'], ['GOOG', 'Mar-08-21', '11:20AM\\xa0\\xa0', 'Alphabet Gets RS Rating Upgrade As Discussed On IBD Live Today'], ['GOOG', 'Mar-08-21', '11:14AM\\xa0\\xa0', 'Dow Jumps as Reopening Stocks Plug Gap Left by Tech Rollover'], ['GOOG', 'Mar-08-21', '08:00AM\\xa0\\xa0', 'Dow Jones Futures Dip, Tech Futures Dive As Treasury Yields Rise On $1.9 Trillion Biden Stimulus Plan'], ['GOOG', 'Mar-08-21', '07:04AM\\xa0\\xa0', 'Amazon-backed Deliveroo gets ready to test a red-hot global IPO market'], ['GOOG', 'Mar-08-21', '06:20AM\\xa0\\xa0', 'Dow Jones Futures Fall, Tech Futures Dive In Bad Sign For Market Rally Attempt; Senate OKs $1.9 Trillion Biden Stimulus Plan'], ['GOOG', 'Mar-08-21', '06:06AM\\xa0\\xa0', 'This ETF Could Help Grow Your Retirement Account'], ['GOOG', 'Mar-08-21', '06:01AM\\xa0\\xa0', '3 Stocks That Will Make You Richer in March (and Beyond!)'], ['GOOG', 'Mar-08-21', '05:12AM\\xa0\\xa0', '15 Companies That Benefited The Most From The Pandemic'], ['GOOG', 'Mar-08-21', '05:02AM\\xa0\\xa0', 'Why Silicon Valley Giants Are Reliant On One Man To Find Success In India'], ['GOOG', 'Mar-08-21', '01:38AM\\xa0\\xa0', 'Coupangs $3.6 Billion IPO Shows U.S. Is King for Tech IPOs'], ['GOOG', 'Mar-07-21', '07:00PM\\xa0\\xa0', 'The Single Biggest Threat To The Electric Vehicle Revolution'], ['GOOG', 'Mar-07-21', '12:03PM\\xa0\\xa0', \"Here's My Top Stock to Buy in March\"], ['GOOG', 'Mar-07-21', '07:30AM\\xa0\\xa0', 'Google and Facebook Are Under Fire: These 3 Stocks Could Be Winners'], ['GOOG', 'Mar-06-21', '04:06PM\\xa0\\xa0', '10 Best Cheap Stocks To Buy Now According To Billionaire Abrams'], ['GOOG', 'Mar-06-21', '09:30AM\\xa0\\xa0', 'Europes Most Feared Investor Chris Hohns Top 10 Stock Picks'], ['GOOG', 'Mar-06-21', '08:45AM\\xa0\\xa0', 'Forget IBM, Amazon Is a Better Cloud Computing Stock'], ['GOOG', 'Mar-06-21', '08:01AM\\xa0\\xa0', \"Google Stock, Microsoft, Vale Lead 5 Stocks That Aren't Backing Down In Market Correction\"], ['GOOG', 'Mar-06-21', '07:00AM\\xa0\\xa0', 'U.K. Takes Step That May Impact Tax Loophole Favored by Big Tech'], ['GOOG', 'Mar-05-21', '06:05PM\\xa0\\xa0', 'What Happens When the Webs Cookies Crumble'], ['GOOG', 'Mar-05-21', '05:37PM\\xa0\\xa0', \"Google's new privacy policy for Chrome won't stop targeted ads\"], ['GOOG', 'Mar-05-21', '04:39PM\\xa0\\xa0', 'Why Google Stock Is Holding Up Better Than Apple, Facebook, Amazon, Netflix'], ['GOOG', 'Mar-05-21', '04:30PM\\xa0\\xa0', 'Stock Market Today: Tech Roller Coaster Leaves Investors Thrilled'], ['GOOG', 'Mar-05-21', '04:17PM\\xa0\\xa0', 'A Comprehensive Guide to Cloud Computing ETFs'], ['GOOG', 'Mar-05-21', '03:40PM\\xa0\\xa0', 'Apple to Face Antitrust Charges Over Spotify Complaint, Reports Say. Why Its Just the Latest Challenge for Big Tech.'], ['GOOG', 'Mar-05-21', '02:36PM\\xa0\\xa0', 'Biden Sets Stage for Tech Crackdown With White House Adviser Wu'], ['GOOG', 'Mar-05-21', '02:36PM\\xa0\\xa0', 'Companies declared Black lives matter last year, and now theyre being asked to prove it'], ['GOOG', 'Mar-05-21', '11:33AM\\xa0\\xa0', 'Oracle Shares Spike as Barclays Turns Bullish Ahead of Earnings Next Week'], ['FB', 'Mar-12-21', '04:52PM\\xa0\\xa0', 'Is Shopify Stock A Buy After Stabilizing From Big Dive?'], ['FB', 'Mar-12-21', '03:20PM\\xa0\\xa0', 'Apple is a force for good, Facebook not so much: Walter Isaacson'], ['FB', 'Mar-12-21', '12:18PM\\xa0\\xa0', 'Google Slams Microsoft Over Support for Media Antitrust Bill'], ['FB', 'Mar-12-21', '10:33AM\\xa0\\xa0', 'IBMs Patent Income Slips\\xa0as Companies\\xa0Resist Godfather Deals'], ['FB', 'Mar-12-21', '07:00AM\\xa0\\xa0', 'Top-Notch Mutual Fund Loves Facebook, Other FAANG Stocks, Taiwan Semiconductor'], ['FB', 'Mar-12-21', '06:05AM\\xa0\\xa0', 'Facebook, Google fight bill that would help U.S. news industry'], ['FB', 'Mar-12-21', '06:00AM\\xa0\\xa0', 'Facebook, Google fight bill that would help U.S. news industry'], ['FB', 'Mar-12-21', '05:51AM\\xa0\\xa0', '5 Stocks the Smartest Money Managers Are Buying'], ['FB', 'Mar-12-21', '05:22AM\\xa0\\xa0', 'Facebook Has Dedicated About 20% Of Its Workforce To VR/AR Efforts: Report'], ['FB', 'Mar-12-21', '03:44AM\\xa0\\xa0', \"Why Facebook So Rattled By Apple's Privacy Changes? Former Employees Explain\"], ['FB', 'Mar-11-21', '05:00PM\\xa0\\xa0', 'Why Facebook, Zoom Video, and Okta Stocks All Jumped on Thursday'], ['FB', 'Mar-11-21', '03:00PM\\xa0\\xa0', \"IBD's Investing Podcast: How To Make More Money In The Stock Market With Stock Charts\"], ['FB', 'Mar-11-21', '01:57PM\\xa0\\xa0', 'Why it would be surprising for Facebook to get antitrust suits dismissed'], ['FB', 'Mar-11-21', '12:55PM\\xa0\\xa0', 'Billionaire Steve Cohens Top 10 Stock Picks'], ['FB', 'Mar-11-21', '12:46PM\\xa0\\xa0', 'Dont be fooled by the value tag on these tech stocks. Many can provide plenty of growth too'], ['FB', 'Mar-11-21', '12:18PM\\xa0\\xa0', 'Instacart Adds Slootman to Board; Signaling It May Go Public'], ['FB', 'Mar-11-21', '10:01AM\\xa0\\xa0', 'UPDATE 1-Facebook to let content creators earn money from short-form videos'], ['FB', 'Mar-11-21', '09:21AM\\xa0\\xa0', 'Facebook to let content creators earn money from short-form videos'], ['FB', 'Mar-11-21', '09:00AM\\xa0\\xa0', 'Facebook to Run More Ads on Shorter Videos to Chase TikTok'], ['FB', 'Mar-11-21', '07:00AM\\xa0\\xa0', 'Influencers with Andy Serwer: Walter Isaacson'], ['FB', 'Mar-11-21', '06:27AM\\xa0\\xa0', 'Goldman Sachs pledges $10 billion to change the lives of One Million Black Women'], ['FB', 'Mar-11-21', '06:06AM\\xa0\\xa0', 'Got $10,000? 4 Game-Changing Stocks to Buy Now and Never Sell'], ['FB', 'Mar-11-21', '12:00AM\\xa0\\xa0', \"Tech Giants' Dreams of Free Internet Wither in African Backlash\"], ['FB', 'Mar-10-21', '07:00PM\\xa0\\xa0', 'If Big Tech has our data, why are targeted ads so terrible?'], ['FB', 'Mar-10-21', '07:00PM\\xa0\\xa0', 'A cheat sheet on the EUs new clampdowns on Big Tech'], ['FB', 'Mar-10-21', '04:11PM\\xa0\\xa0', 'Facebook Files to Dismiss Antitrust Lawsuits, Claiming Its Acquisitions Have Been Good for Users, Advertisers and Competition'], ['FB', 'Mar-10-21', '03:30PM\\xa0\\xa0', 'UPDATE 1-Facebook asks court to dismiss U.S. government, states antitrust cases'], ['FB', 'Mar-10-21', '03:19PM\\xa0\\xa0', 'Facebook Asks Court to Toss U.S. Lawsuit Seeking Breakup'], ['FB', 'Mar-10-21', '02:53PM\\xa0\\xa0', 'Tech War With News Publishers Reaches US: Bloomberg'], ['FB', 'Mar-10-21', '02:34PM\\xa0\\xa0', 'Facebook asks federal judge to dismiss antitrust lawsuits by FTC, state AGs'], ['FB', 'Mar-10-21', '01:56PM\\xa0\\xa0', 'Facebook Reintroduces Instagram Lite In 170 Low Bandwidth Countries: Reuters'], ['FB', 'Mar-10-21', '01:26PM\\xa0\\xa0', 'Russia Squeezes Twitter Amid Crackdown, Traffic Disrupted'], ['FB', 'Mar-10-21', '01:25PM\\xa0\\xa0', 'Facebook asks court to dismiss U.S. government, states antitrust cases'], ['FB', 'Mar-10-21', '01:17PM\\xa0\\xa0', 'Facebook asks court to dismiss U.S. government, states antitrust cases'], ['FB', 'Mar-10-21', '01:15PM\\xa0\\xa0', 'Facebook asks court to dismiss U.S. government, states antitrust cases'], ['FB', 'Mar-10-21', '12:47PM\\xa0\\xa0', \"Tech stocks are 'incredible buys' whenever you see weakness: CIO\"], ['FB', 'Mar-10-21', '11:59AM\\xa0\\xa0', 'Is GBTC Stock A Good Buy As Bitcoin Rebounds After Pullback?'], ['FB', 'Mar-10-21', '11:47AM\\xa0\\xa0', 'TikTok Prompts EU Watchdogs Warning on Data Being Sent to China'], ['FB', 'Mar-10-21', '11:03AM\\xa0\\xa0', \"Girls Who Code CEO on women in tech: We're not getting hired, or supported\"], ['FB', 'Mar-10-21', '10:14AM\\xa0\\xa0', 'Facebook reveals details of its AR glasses which could work by reading your mind'], ['FB', 'Mar-10-21', '09:57AM\\xa0\\xa0', \"Facebook and Twitter algorithms incentivize 'people to get enraged': Walter Isaacson\"], ['FB', 'Mar-10-21', '09:54AM\\xa0\\xa0', 'Tiger Cub Billionaire Lee Ainslies Top 10 Stock Picks'], ['FB', 'Mar-10-21', '08:38AM\\xa0\\xa0', 'Social media algorithms are dangerous: Walter Isaacson'], ['FB', 'Mar-10-21', '08:19AM\\xa0\\xa0', 'UPDATE 1-Google and Viber review adverts for Myanmar military-backed telecoms firm'], ['FB', 'Mar-10-21', '06:03AM\\xa0\\xa0', 'Facebook launches Instagram Lite in 170 lower bandwidth countries'], ['FB', 'Mar-10-21', '04:22AM\\xa0\\xa0', 'Google to review adverts for Myanmar military-backed telecoms firm'], ['FB', 'Mar-09-21', '07:00PM\\xa0\\xa0', 'Facebooks Indonesia expansion plan hits headwinds'], ['FB', 'Mar-09-21', '05:55PM\\xa0\\xa0', 'Why Shares of Apple, Facebook, Square, and Other Growth Stocks Popped Today'], ['FB', 'Mar-09-21', '04:32PM\\xa0\\xa0', 'Market Recap: Tuesday, March 9'], ['FB', 'Mar-09-21', '04:28PM\\xa0\\xa0', 'Mark Zuckerberg says in 10 years you wont go to meetings  youll digitally teleport to them'], ['FB', 'Mar-09-21', '03:40PM\\xa0\\xa0', 'Biden Reportedly Plans to Name Tech Critic Lina Khan to FTC'], ['FB', 'Mar-09-21', '02:51PM\\xa0\\xa0', \"Facebook's lawyers blast attorney fees bid in deal over 2018 data breach\"], ['FB', 'Mar-09-21', '02:38PM\\xa0\\xa0', 'Biden Flashes Warning to Big Tech as Antitrust Team Takes Shape'], ['FB', 'Mar-09-21', '02:26PM\\xa0\\xa0', 'LinkedIn Pauses New Sign-Ups in China to Review Compliance'], ['FB', 'Mar-09-21', '02:23PM\\xa0\\xa0', 'Buy Visa and Mastercard Because the Card Networks Are Poised for a Comeback, Analysts Say'], ['FB', 'Mar-09-21', '12:14PM\\xa0\\xa0', 'Dow Rallies After Pelosi Makes Stimulus Pledge; Nasdaq Surges As Yields Slide; Apple Stock Jumps'], ['FB', 'Mar-09-21', '11:46AM\\xa0\\xa0', 'Why VanEcks New Meme Stocks ETF Might Not Be Reddit-Worthy'], ['FB', 'Mar-09-21', '11:42AM\\xa0\\xa0', 'Apple, Google Lead Tech Stock Buybacks As Financials Rebound In 2021'], ['FB', 'Mar-09-21', '10:50AM\\xa0\\xa0', 'UPDATE 1-Russia rebukes Facebook for blocking some media posts'], ['FB', 'Mar-09-21', '10:26AM\\xa0\\xa0', 'Biden Moving to Name Antitrust Scholar Lina Khan to FTC Post'], ['FB', 'Mar-09-21', '09:29AM\\xa0\\xa0', 'Rotation trades will be the hardest for investors to figure out: strategist'], ['FB', 'Mar-09-21', '09:08AM\\xa0\\xa0', 'Facebook (FB) Tests Instagram Reels on News Feed in India'], ['FB', 'Mar-09-21', '08:36AM\\xa0\\xa0', 'Russia Indicts Google, Facebook, Twitter, TikTok, Telegram For Alleged Non-Deletion Of Protest Content'], ['FB', 'Mar-09-21', '08:33AM\\xa0\\xa0', 'Ignore GameStop: Here Are 2 Better Stocks'], ['FB', 'Mar-09-21', '08:06AM\\xa0\\xa0', 'How to invest in the future  heres an idea for a Spacebook fund'], ['FB', 'Mar-09-21', '06:55AM\\xa0\\xa0', 'Instagram Testing Reels Integration On Facebook Indian Accounts: Reuters'], ['FB', 'Mar-09-21', '05:37AM\\xa0\\xa0', \"Mark Zuckerberg Doesn't Seem To Be A Fan Of Apple's Planned VR Headset  Among Other Things\"], ['FB', 'Mar-09-21', '05:00AM\\xa0\\xa0', 'Chinas Microsoft Hack, Russias SolarWinds Attack Threaten to Overwhelm U.S.'], ['FB', 'Mar-09-21', '04:25AM\\xa0\\xa0', 'EU Set to Go It Alone on Tech Tax If Theres No Deal With Biden'], ['FB', 'Mar-09-21', '03:32AM\\xa0\\xa0', 'Apple Faces French Complaint Over IPhone Advertising Tool'], ['FB', 'Mar-09-21', '12:18AM\\xa0\\xa0', 'Instagram to Integrate Reels Into Facebook Social Network'], ['FB', 'Mar-08-21', '11:03PM\\xa0\\xa0', 'Facebook tests feature in India to share Instagram reels on its news feed'], ['FB', 'Mar-08-21', '10:59PM\\xa0\\xa0', 'Facebook tests feature in India to share Instagram reels on its news feed'], ['FB', 'Mar-08-21', '07:00PM\\xa0\\xa0', 'Gamers prepare for cloud computing power-up'], ['FB', 'Mar-08-21', '02:28PM\\xa0\\xa0', 'The FAANG stocks, in these uncertain times, are expected to rise as much as 35% over the next year'], ['FB', 'Mar-08-21', '08:00AM\\xa0\\xa0', 'Columbia Mutual Fund Wins With A Daring Focused Approach'], ['FB', 'Mar-08-21', '07:04AM\\xa0\\xa0', 'Amazon-backed Deliveroo gets ready to test a red-hot global IPO market'], ['FB', 'Mar-08-21', '06:06AM\\xa0\\xa0', '5 Brand-Name Stocks to Buy During a Market Crash'], ['FB', 'Mar-08-21', '05:17AM\\xa0\\xa0', 'Taiwan Has Enough Water to Keep Chipmakers Humming Till May'], ['FB', 'Mar-08-21', '05:13AM\\xa0\\xa0', 'WhatsApp Adds PC Video Calling To Compete With Zoom'], ['FB', 'Mar-08-21', '05:12AM\\xa0\\xa0', '15 Companies That Benefited The Most From The Pandemic'], ['FB', 'Mar-08-21', '05:02AM\\xa0\\xa0', 'Why Silicon Valley Giants Are Reliant On One Man To Find Success In India'], ['FB', 'Mar-08-21', '04:32AM\\xa0\\xa0', 'Russia rebukes Facebook for blocking some media posts'], ['FB', 'Mar-08-21', '01:38AM\\xa0\\xa0', 'Coupangs $3.6 Billion IPO Shows U.S. Is King for Tech IPOs'], ['FB', 'Mar-07-21', '08:36AM\\xa0\\xa0', \"Equal Employment Opportunity Commission Investigating 'Systemic' Hiring Discrimination At Facebook\"], ['FB', 'Mar-07-21', '07:30AM\\xa0\\xa0', 'Google and Facebook Are Under Fire: These 3 Stocks Could Be Winners'], ['FB', 'Mar-07-21', '06:30AM\\xa0\\xa0', '3 Top Artificial Intelligence Stocks to Buy in March'], ['FB', 'Mar-06-21', '06:50PM\\xa0\\xa0', '15 Most Reputable Companies In the World'], ['FB', 'Mar-06-21', '06:02PM\\xa0\\xa0', 'These Are The 5 Best Stocks To Buy And Watch Now'], ['FB', 'Mar-06-21', '04:06PM\\xa0\\xa0', '10 Best Cheap Stocks To Buy Now According To Billionaire Abrams'], ['FB', 'Mar-05-21', '07:09PM\\xa0\\xa0', \"Exclusive: U.S. agency probes Facebook for 'systemic' racial bias in hiring, promotions - attorneys\"], ['FB', 'Mar-05-21', '05:00PM\\xa0\\xa0', 'Apple Shares Are Lagging the Market. Why the Stock Could Continue to Underperform.'], ['FB', 'Mar-05-21', '04:40PM\\xa0\\xa0', 'Volkswagen and ViacomCBS Are Reinventing Themselves. Why Thats Good for Their Stocks.'], ['FB', 'Mar-05-21', '04:39PM\\xa0\\xa0', 'Why Google Stock Is Holding Up Better Than Apple, Facebook, Amazon, Netflix'], ['FB', 'Mar-05-21', '03:40PM\\xa0\\xa0', 'Apple to Face Antitrust Charges Over Spotify Complaint, Reports Say. Why Its Just the Latest Challenge for Big Tech.'], ['FB', 'Mar-05-21', '02:36PM\\xa0\\xa0', 'Biden Sets Stage for Tech Crackdown With White House Adviser Wu'], ['FB', 'Mar-05-21', '02:36PM\\xa0\\xa0', 'Companies declared Black lives matter last year, and now theyre being asked to prove it'], ['FB', 'Mar-05-21', '12:48PM\\xa0\\xa0', 'Dont Overlook the Golden Opportunity in Alteryx Stock'], ['FB', 'Mar-05-21', '07:00AM\\xa0\\xa0', 'Enterprise Use Of Augmented Reality Blazing A Path For Consumer Smart Glasses'], ['FB', 'Mar-05-21', '06:06AM\\xa0\\xa0', '5 of the Best Stocks to Invest $5,000 in Right Now']]\n"
     ]
    }
   ],
   "source": [
    "parsed_data=[]\n",
    "\n",
    "for ticker, news_table in news_tables.items():\n",
    "    for row in news_table.findAll('tr'):\n",
    "        title=row.a.text\n",
    "        date_data=row.td.text.split(' ')\n",
    "        \n",
    "        if len(date_data)==1:\n",
    "            time=date_data[0]\n",
    "        else:\n",
    "            date=date_data[0]\n",
    "            time=date_data[1]\n",
    "            \n",
    "        parsed_data.append([ticker,date,time,title])\n",
    "    \n",
    "print(parsed_data)\n"
   ]
  },
  {
   "cell_type": "code",
   "execution_count": 107,
   "metadata": {},
   "outputs": [],
   "source": [
    "df=pd.DataFrame(parsed_data,columns=['ticker','date','time','title'])"
   ]
  },
  {
   "cell_type": "code",
   "execution_count": 108,
   "metadata": {},
   "outputs": [],
   "source": [
    "vader=SentimentIntensityAnalyzer()"
   ]
  },
  {
   "cell_type": "code",
   "execution_count": 109,
   "metadata": {},
   "outputs": [],
   "source": [
    "f= lambda title: vader.polarity_scores(title)['compound']\n",
    "df['compund']=df['title'].apply(f)"
   ]
  },
  {
   "cell_type": "code",
   "execution_count": 110,
   "metadata": {},
   "outputs": [
    {
     "name": "stdout",
     "output_type": "stream",
     "text": [
      "  ticker       date       time  \\\n",
      "0   AMZN  Mar-12-21  08:41PM     \n",
      "1   AMZN  Mar-12-21  06:25PM     \n",
      "2   AMZN  Mar-12-21  06:22PM     \n",
      "3   AMZN  Mar-12-21  06:02PM     \n",
      "4   AMZN  Mar-12-21  03:21PM     \n",
      "\n",
      "                                               title  compund  \n",
      "0  The \"Amazon\" of Japan, Rakuten, Selling $2.2 B...   0.0000  \n",
      "1  Amazon Ordered to Close Canadian Facility on C...   0.1779  \n",
      "2  UPDATE 1-Amazon Canada asked to shut Brampton ...   0.0000  \n",
      "3  Coupang Is the Amazon.com of South Korea, but ...   0.5927  \n",
      "4  Rakuten Divests 8% Stake To Japan Post, Tencen...  -0.2263  \n"
     ]
    }
   ],
   "source": [
    "print(df.head())"
   ]
  },
  {
   "cell_type": "code",
   "execution_count": 111,
   "metadata": {},
   "outputs": [],
   "source": [
    "df['date']=pd.to_datetime(df.date).dt.date"
   ]
  },
  {
   "cell_type": "code",
   "execution_count": 112,
   "metadata": {},
   "outputs": [
    {
     "data": {
      "text/plain": [
       "<Figure size 720x576 with 0 Axes>"
      ]
     },
     "execution_count": 112,
     "metadata": {},
     "output_type": "execute_result"
    },
    {
     "data": {
      "text/plain": [
       "<Figure size 720x576 with 0 Axes>"
      ]
     },
     "metadata": {},
     "output_type": "display_data"
    }
   ],
   "source": [
    "plt.figure(figsize=(10,8))"
   ]
  },
  {
   "cell_type": "code",
   "execution_count": 113,
   "metadata": {},
   "outputs": [
    {
     "data": {
      "image/png": "[encoded data removed]",
      "text/plain": [
       "<Figure size 432x288 with 1 Axes>"
      ]
     },
     "metadata": {
      "needs_background": "light"
     },
     "output_type": "display_data"
    }
   ],
   "source": [
    "mean_df=df.groupby(['ticker','date']).mean()\n",
    "mean_df=mean_df.unstack()\n",
    "mean_df=mean_df.xs('compund',axis=\"columns\").transpose()\n",
    "mean_df.plot(kind='bar')\n",
    "plt.show()"
   ]
  },
  {
   "cell_type": "code",
   "execution_count": null,
   "metadata": {},
   "outputs": [],
   "source": []
  },
  {
   "cell_type": "code",
   "execution_count": null,
   "metadata": {},
   "outputs": [],
   "source": []
  },
  {
   "cell_type": "code",
   "execution_count": null,
   "metadata": {},
   "outputs": [],
   "source": []
  },
  {
   "cell_type": "code",
   "execution_count": null,
   "metadata": {},
   "outputs": [],
   "source": []
  },
  {
   "cell_type": "code",
   "execution_count": null,
   "metadata": {},
   "outputs": [],
   "source": []
  },
  {
   "cell_type": "code",
   "execution_count": null,
   "metadata": {},
   "outputs": [],
   "source": []
  },
  {
   "cell_type": "code",
   "execution_count": null,
   "metadata": {},
   "outputs": [],
   "source": []
  }
 ],
 "metadata": {
  "kernelspec": {
   "display_name": "Python 3",
   "language": "python",
   "name": "python3"
  },
  "language_info": {
   "codemirror_mode": {
    "name": "ipython",
    "version": 3
   },
   "file_extension": ".py",
   "mimetype": "text/x-python",
   "name": "python",
   "nbconvert_exporter": "python",
   "pygments_lexer": "ipython3",
   "version": "3.7.4"
  }
 },
 "nbformat": 4,
 "nbformat_minor": 4
}
